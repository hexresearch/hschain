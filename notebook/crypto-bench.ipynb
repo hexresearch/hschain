{
 "cells": [
  {
   "cell_type": "code",
   "execution_count": null,
   "metadata": {},
   "outputs": [],
   "source": [
    "%matplotlib nbagg\n",
    "import matplotlib.pyplot as plt\n",
    "from IPython.display import display\n",
    "##\n",
    "import json\n",
    "import re\n",
    "import numpy           as np\n",
    "import pandas          as pd\n",
    "import statsmodels.api as sm\n",
    "import ipywidgets      as widgets\n",
    "## Shut up matplotlib\n",
    "plt.rcParams.update({'figure.max_open_warning': 0})"
   ]
  },
  {
   "cell_type": "markdown",
   "metadata": {},
   "source": [
    "Rather messy notebook for studying performance of different implementations of hashes"
   ]
  },
  {
   "cell_type": "code",
   "execution_count": null,
   "metadata": {},
   "outputs": [],
   "source": [
    "def read_bench(fname):\n",
    "    \"Read benchmarks from CSV file produced by criterion\"\n",
    "    df = pd.read_csv(fname)\n",
    "    df['bytes']   = df['Name'].apply(lambda s: int(s.split()[1]))\n",
    "    df['Name']    = df['Name'].apply(lambda s: s.split()[0].replace('Hash/','').replace('/blob',''))\n",
    "    df['MeanErr'] = (df['MeanUB'] - df['MeanLB']) / 2\n",
    "    return { k:{'df':v} for k,v in df.groupby('Name')}\n",
    "\n",
    "def fit_bench(df):\n",
    "    \"Perform linear fit on benchmark data\"\n",
    "    return sm.OLS( df['Mean'], sm.add_constant(df['bytes'])).fit()\n",
    "\n",
    "def read_and_fit(fname):\n",
    "    return {\n",
    "        k : d.update({'fit': fit_bench(d['df']),\n",
    "                      'name': k\n",
    "                     }) or d\n",
    "        for k,d in read_bench(fname).items()    \n",
    "    }\n",
    "\n",
    "def hash_summary(meas) :\n",
    "    \"Generate summary of benchmark\"\n",
    "    return pd.DataFrame.from_records([\n",
    "        [d['name'],\n",
    "         1e9*d['fit'].params[0],\n",
    "         1e9*d['fit'].params[1]\n",
    "        ] for _,d in meas.items() ], \n",
    "        columns=['name','t0','tByte'])"
   ]
  },
  {
   "cell_type": "code",
   "execution_count": null,
   "metadata": {},
   "outputs": [],
   "source": [
    "meas_pure       = read_and_fit('../pure.csv')\n",
    "meas_cryptonite = read_and_fit('../cryptonite.csv')\n",
    "sum_pure        = hash_summary(meas_pure)\n",
    "sum_cryptonite  = hash_summary(meas_cryptonite)"
   ]
  },
  {
   "cell_type": "code",
   "execution_count": null,
   "metadata": {},
   "outputs": [],
   "source": [
    "def plot_meas(meas) :\n",
    "    df = meas['df']\n",
    "    r  = meas['fit']\n",
    "    plt.figure()\n",
    "    plt.grid()\n",
    "    plt.title(\"%s: %.2f + %0.2f·t ns\" % (meas['name'], 1e9*r.params[0], 1e9*r.params[1]))\n",
    "    plt.semilogx()\n",
    "    plt.semilogy()\n",
    "    plt.plot(df['bytes'], df['Mean'], '+')\n",
    "    # Model\n",
    "    xs = np.logspace(0, np.log10(np.max(df['bytes'])))\n",
    "    plt.plot(xs, r.params[0] + r.params[1]*xs)    "
   ]
  },
  {
   "cell_type": "code",
   "execution_count": null,
   "metadata": {},
   "outputs": [],
   "source": [
    "display(sum_pure)\n",
    "display(sum_cryptonite)"
   ]
  },
  {
   "cell_type": "code",
   "execution_count": null,
   "metadata": {},
   "outputs": [],
   "source": [
    "for k,d in meas_pure.items():\n",
    "    plot_meas(d)"
   ]
  },
  {
   "cell_type": "code",
   "execution_count": null,
   "metadata": {},
   "outputs": [],
   "source": [
    "for k,d in meas_cryptonite.items():\n",
    "    plot_meas(d)"
   ]
  },
  {
   "cell_type": "code",
   "execution_count": null,
   "metadata": {},
   "outputs": [],
   "source": [
    "sum_pure['tByte'] / sum_cryptonite['tByte']"
   ]
  },
  {
   "cell_type": "code",
   "execution_count": null,
   "metadata": {},
   "outputs": [],
   "source": []
  }
 ],
 "metadata": {
  "kernelspec": {
   "display_name": "Python 3",
   "language": "python",
   "name": "python3"
  },
  "language_info": {
   "codemirror_mode": {
    "name": "ipython",
    "version": 3
   },
   "file_extension": ".py",
   "mimetype": "text/x-python",
   "name": "python",
   "nbconvert_exporter": "python",
   "pygments_lexer": "ipython3",
   "version": "3.6.8"
  }
 },
 "nbformat": 4,
 "nbformat_minor": 2
}
