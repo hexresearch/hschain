{
 "cells": [
  {
   "cell_type": "code",
   "execution_count": null,
   "metadata": {},
   "outputs": [],
   "source": [
    "%matplotlib nbagg\n",
    "import matplotlib.pyplot as plt\n",
    "##\n",
    "import json\n",
    "import re\n",
    "##\n",
    "import numpy           as np\n",
    "import pandas          as pd\n",
    "import statsmodels.api as sm\n",
    "##\n",
    "from elasticsearch     import Elasticsearch, helpers\n",
    "from elasticsearch_dsl import Search, A, Q\n",
    "\n",
    "##\n",
    "import thundermint.plot  as plot\n",
    "import thundermint.splot as splot"
   ]
  },
  {
   "cell_type": "code",
   "execution_count": null,
   "metadata": {},
   "outputs": [],
   "source": [
    "with open(\"credentials.json\") as f:\n",
    "    credentials = json.load(f)\n",
    "es = Elasticsearch(\"%s:%s@elastic.hxr.team\" % (credentials['login'], credentials['password']), \n",
    "                   port=443, \n",
    "                   use_ssl=True,\n",
    "                   )"
   ]
  },
  {
   "cell_type": "markdown",
   "metadata": {},
   "source": [
    "# Global parameters for search"
   ]
  },
  {
   "cell_type": "code",
   "execution_count": null,
   "metadata": {},
   "outputs": [],
   "source": [
    "index = 'xenochain-2018-11-06'"
   ]
  },
  {
   "cell_type": "markdown",
   "metadata": {},
   "source": [
    "# Queries"
   ]
  },
  {
   "cell_type": "code",
   "execution_count": null,
   "metadata": {},
   "outputs": [],
   "source": [
    "def time_range(start, delta):\n",
    "    (h1,m1) = start\n",
    "    (dh,dm) = delta\n",
    "    h2 = h1 + dh + (m1+dm) // 60\n",
    "    m2 = (m1+dm) % 60   \n",
    "    r  = re.match(\"^.*-(\\d+-\\d+-\\d+)\", index)\n",
    "    t1 = \"%sT%02i:%02i:00Z\" % (r.group(1), h1, m1)\n",
    "    t2 = \"%sT%02i:%02i:00Z\" % (r.group(1), h2, m2)\n",
    "    return (t1,t2)\n",
    "\n",
    "def postprocess_entries(s) :\n",
    "    r       = pd.DataFrame.from_records([x.to_dict() for x in s.scan()])\n",
    "    r['at'] = pd.to_datetime(r['at'])\n",
    "    r       = r.sort_values('at')\n",
    "    return r\n",
    "\n",
    "def split_on_host(df):\n",
    "    return dict([x for x in df.groupby('host')])"
   ]
  },
  {
   "cell_type": "code",
   "execution_count": null,
   "metadata": {},
   "outputs": [],
   "source": [
    "def distinct_fields(field):\n",
    "    \"Count distinct field values in current index\"\n",
    "    s = Search(using=es, index=index)[0:0]\n",
    "    s.aggs.bucket('unique_ids', A('terms', field=field))\n",
    "    return s.execute().aggregations.unique_ids.buckets\n",
    "\n",
    "def query_consensus(start, delta, cluster):\n",
    "    \"Fetch data for logs about consensus\"\n",
    "    (t1,t2) = time_range(start, delta)\n",
    "    s = Search(using=es, index=index).\\\n",
    "        filter('term',  env=cluster).\\\n",
    "        filter('term',  ns ='consensus').\\\n",
    "        filter('range', at ={\"gte\":t1, \"lt\":t2}).\\\n",
    "        source(['at','msg','data','host'])\n",
    "    return split_on_host(postprocess_entries(s))\n",
    "\n",
    "def query_mempool(start, delta, cluster):\n",
    "     # Query\n",
    "    (t1,t2) = time_range(start, delta)\n",
    "    s = Search(using=es, index=index).\\\n",
    "        filter('term',  env=cluster).\\\n",
    "        filter('term',  ns ='mempool').\\\n",
    "        filter('range', at ={\"gte\":t1, \"lt\":t2}).\\\n",
    "        source(['at','msg','data','host'])\n",
    "    r = postprocess_entries(s)\n",
    "    r['size']      = r['data'].apply(lambda x: x['size'])\n",
    "    r['filtered']  = r['data'].apply(lambda x: x['filtered'])\n",
    "    r['added']     = r['data'].apply(lambda x: x['added'])\n",
    "    r['discarded'] = r['data'].apply(lambda x: x['discarded'])\n",
    "    r = r.drop('data', axis=1)\n",
    "    return split_on_host(r)"
   ]
  },
  {
   "cell_type": "markdown",
   "metadata": {},
   "source": [
    "# Plots"
   ]
  },
  {
   "cell_type": "code",
   "execution_count": null,
   "metadata": {},
   "outputs": [],
   "source": [
    "def to_commit(d) :\n",
    "    r = d[d['msg'] == \"Entering new height ----------------\"].copy()\n",
    "    r['H'] = r['data'].apply(lambda x : x['H'])\n",
    "    return r.drop(['data','msg','host'], axis=1)\n",
    "\n",
    "def to_commit_n_tx(df):\n",
    "    r = df[df['msg'] == \"Actual commit\"]\n",
    "    return pd.DataFrame({'H'  : r['data'].apply(lambda x : x['H']),\n",
    "                         'Ntx': r['data'].apply(lambda x : x['Ntx']),\n",
    "                        })"
   ]
  },
  {
   "cell_type": "code",
   "execution_count": null,
   "metadata": {},
   "outputs": [],
   "source": [
    "logsC = query_consensus((16,10), (0,5), cluster='profile')\n",
    "logsM = query_mempool  ((16,10), (0,5), cluster='profile')"
   ]
  },
  {
   "cell_type": "code",
   "execution_count": null,
   "metadata": {},
   "outputs": [],
   "source": [
    "plot.plot_commit_time([to_commit(x) for x in logsC.values()])\n",
    "None"
   ]
  },
  {
   "cell_type": "code",
   "execution_count": null,
   "metadata": {},
   "outputs": [],
   "source": [
    "plot.plot_n_tx_in_block([to_commit_n_tx(x) for x in logsC.values()])\n",
    "None"
   ]
  },
  {
   "cell_type": "code",
   "execution_count": null,
   "metadata": {},
   "outputs": [],
   "source": [
    "plot.plot_mempool_size([x for x in logsM.values()])\n",
    "None"
   ]
  },
  {
   "cell_type": "code",
   "execution_count": null,
   "metadata": {},
   "outputs": [],
   "source": [
    "splot.splot(logsC, w=2000)"
   ]
  },
  {
   "cell_type": "markdown",
   "metadata": {},
   "source": [
    "# Scratchpad"
   ]
  },
  {
   "cell_type": "code",
   "execution_count": null,
   "metadata": {},
   "outputs": [],
   "source": []
  }
 ],
 "metadata": {
  "kernelspec": {
   "display_name": "Python 3",
   "language": "python",
   "name": "python3"
  },
  "language_info": {
   "codemirror_mode": {
    "name": "ipython",
    "version": 3
   },
   "file_extension": ".py",
   "mimetype": "text/x-python",
   "name": "python",
   "nbconvert_exporter": "python",
   "pygments_lexer": "ipython3",
   "version": "3.6.6"
  }
 },
 "nbformat": 4,
 "nbformat_minor": 2
}
