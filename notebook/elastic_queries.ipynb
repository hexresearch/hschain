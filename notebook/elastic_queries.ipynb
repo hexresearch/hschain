{
 "cells": [
  {
   "cell_type": "code",
   "execution_count": null,
   "metadata": {},
   "outputs": [],
   "source": [
    "%matplotlib nbagg\n",
    "import matplotlib.pyplot as plt\n",
    "from IPython.display import display\n",
    "##\n",
    "import json\n",
    "import re\n",
    "##\n",
    "import numpy           as np\n",
    "import pandas          as pd\n",
    "import statsmodels.api as sm\n",
    "##\n",
    "from elasticsearch     import Elasticsearch, helpers\n",
    "from elasticsearch_dsl import Search, A, Q\n",
    "\n",
    "##\n",
    "import thundermint.plot  as plot\n",
    "import thundermint.splot as splot"
   ]
  },
  {
   "cell_type": "code",
   "execution_count": null,
   "metadata": {},
   "outputs": [],
   "source": [
    "with open(\"credentials.json\") as f:\n",
    "    credentials = json.load(f)\n",
    "es = Elasticsearch(\"%s:%s@elastic.hxr.team\" % (credentials['login'], credentials['password']), \n",
    "                   port=443, \n",
    "                   use_ssl=True,\n",
    "                   )"
   ]
  },
  {
   "cell_type": "markdown",
   "metadata": {},
   "source": [
    "# Global parameters for search"
   ]
  },
  {
   "cell_type": "code",
   "execution_count": null,
   "metadata": {},
   "outputs": [],
   "source": [
    "index = 'xenochain-2018-12-03'"
   ]
  },
  {
   "cell_type": "markdown",
   "metadata": {},
   "source": [
    "# Queries"
   ]
  },
  {
   "cell_type": "code",
   "execution_count": null,
   "metadata": {},
   "outputs": [],
   "source": [
    "# -------------------------------------------------------------------\n",
    "# Primitive filters\n",
    "\n",
    "def flt_host(host) :\n",
    "    \"filter by host\"\n",
    "    return lambda s : s.filter('term', host=host)\n",
    "def flt_cluster(cluster) :\n",
    "    \"filter by cluster\"\n",
    "    return lambda s : s.filter('term', env=cluster)\n",
    "def flt_severity(sev) :\n",
    "    \"Filter by severity\"\n",
    "    return lambda s : s.filter('term',  sev=sev)\n",
    "def flt_namespace(ns) :\n",
    "    \"Filter on namespace\"\n",
    "    return lambda s : s.filter('term',  ns=ns)\n",
    "def flt_msg(q, msg):\n",
    "    \"Filter on log message\"\n",
    "    return lambda s : s.filter(q, msg=msg)\n",
    "\n",
    "flt_consensus = flt_namespace('consensus')\n",
    "flt_mempool   = flt_namespace('mempool')\n",
    "flt_net       = flt_namespace('net')\n",
    "\n",
    "def flt_time(start, delta):\n",
    "    \"Filter time range\"\n",
    "    (h1,m1) = start\n",
    "    (dh,dm) = delta\n",
    "    h2 = h1 + dh + (m1+dm) // 60\n",
    "    m2 = (m1+dm) % 60   \n",
    "    r  = re.match(\"^.*-(\\d+-\\d+-\\d+)\", index)\n",
    "    t1 = \"%sT%02i:%02i:00Z\" % (r.group(1), h1, m1)\n",
    "    t2 = \"%sT%02i:%02i:00Z\" % (r.group(1), h2, m2)\n",
    "    return lambda s : s.filter('range', at ={\"gte\":t1, \"lt\":t2})\n",
    "\n",
    "def make_seatch(cluster, filters) :\n",
    "    \"Create Search object from filters\"\n",
    "    s = Search(using=es, index=index)\n",
    "    for f in filters:\n",
    "        s = f(s)\n",
    "    return s\n",
    "\n",
    "# -------------------------------------------------------------------\n",
    "# Postprocessing\n",
    "\n",
    "def postprocess_entries(s) :\n",
    "    r       = pd.DataFrame.from_records([x.to_dict() for x in s.scan()],\n",
    "                                        columns=['at','host','data','msg'])\n",
    "    r['at'] = pd.to_datetime(r['at'])\n",
    "    r       = r.sort_values('at')\n",
    "    return r\n",
    "\n",
    "def postprocess_mempool(r):\n",
    "    r['size']      = r['data'].apply(lambda x: x['size'])\n",
    "    r['filtered']  = r['data'].apply(lambda x: x['filtered'])\n",
    "    r['added']     = r['data'].apply(lambda x: x['added'])\n",
    "    r['discarded'] = r['data'].apply(lambda x: x['discarded'])\n",
    "    r = r.drop('data', axis=1)\n",
    "    return r\n",
    "\n",
    "def postprocess_gossip(r):\n",
    "    r  = r[r['msg'] == 'Gossip stats'].reset_index(drop=True)\n",
    "    df = pd.DataFrame.from_records(r['data'].values)\n",
    "    df['at']   = r['at']\n",
    "    df['host'] = r['host']\n",
    "    return df\n",
    "\n",
    "def split_on_host(df):\n",
    "    return {k : d.reset_index(drop=True) for k,d in df.groupby('host')}\n",
    "\n",
    "# -------------------------------------------------------------------\n",
    "# Queries\n",
    "\n",
    "def q_agg_uniq(cluster, filters, field):\n",
    "    \"Aggregate by unique field\"\n",
    "    s = make_seatch(cluster, filters)\n",
    "    s.aggs.bucket('unique_ids', A('terms', field=field))\n",
    "    return s[0:0].execute().aggregations.unique_ids.buckets\n",
    "\n",
    "def q_scan(cluster, filters, host=None, source=['at','msg','data','host'], postprocess=[]):\n",
    "    \"Fetch data from elastic\"\n",
    "    s = make_seatch(cluster, filters).source(source)\n",
    "    s = flt_cluster(cluster)(s)\n",
    "    if host is not None:\n",
    "        s = flt_host(host)(s)\n",
    "    r = postprocess_entries(s)\n",
    "    for f in postprocess:\n",
    "        r = f(r)\n",
    "    if host is None:\n",
    "        r = split_on_host(r)\n",
    "    return r"
   ]
  },
  {
   "cell_type": "markdown",
   "metadata": {},
   "source": [
    "# Restarts information"
   ]
  },
  {
   "cell_type": "code",
   "execution_count": null,
   "metadata": {},
   "outputs": [],
   "source": [
    "def show_restarts():\n",
    "    r = q_scan('atum', [ flt_msg(\"match\", \"Starting consensus engine\"),\n",
    "                         flt_namespace(\"consensus\"),\n",
    "                       ])\n",
    "    for (k,v) in r.items() : \n",
    "        print( k)\n",
    "        display( v)"
   ]
  },
  {
   "cell_type": "code",
   "execution_count": null,
   "metadata": {},
   "outputs": [],
   "source": [
    "show_restarts()"
   ]
  },
  {
   "cell_type": "markdown",
   "metadata": {},
   "source": [
    "# Plots for commits"
   ]
  },
  {
   "cell_type": "code",
   "execution_count": null,
   "metadata": {},
   "outputs": [],
   "source": [
    "logsC = q_scan('atum', [flt_namespace('consensus'),\n",
    "                        flt_time((15,35), (0,5))])"
   ]
  },
  {
   "cell_type": "code",
   "execution_count": null,
   "metadata": {},
   "outputs": [],
   "source": [
    "plot.plot_commit_time(logsC)\n",
    "None"
   ]
  },
  {
   "cell_type": "code",
   "execution_count": null,
   "metadata": {},
   "outputs": [],
   "source": [
    "plot.plot_n_tx_in_block(logsC)\n",
    "None"
   ]
  },
  {
   "cell_type": "code",
   "execution_count": null,
   "metadata": {},
   "outputs": [],
   "source": [
    "splot.splot(logsC, w=32000)"
   ]
  },
  {
   "cell_type": "markdown",
   "metadata": {},
   "source": [
    "# Rounds vs time"
   ]
  },
  {
   "cell_type": "code",
   "execution_count": null,
   "metadata": {},
   "outputs": [],
   "source": [
    "plot.plot_round(logsC)\n",
    "None"
   ]
  },
  {
   "cell_type": "markdown",
   "metadata": {},
   "source": [
    "# Mempool plots"
   ]
  },
  {
   "cell_type": "code",
   "execution_count": null,
   "metadata": {},
   "outputs": [],
   "source": [
    "logsM = q_scan('atum', [flt_namespace('mempool'),\n",
    "                        flt_time((15,20), (0,5))],\n",
    "                postprocess=[postprocess_mempool])"
   ]
  },
  {
   "cell_type": "code",
   "execution_count": null,
   "metadata": {},
   "outputs": [],
   "source": [
    "plot.plot_mempool_size([x for x in logsM.values()])\n",
    "None"
   ]
  },
  {
   "cell_type": "markdown",
   "metadata": {},
   "source": [
    "# Gossip stats"
   ]
  },
  {
   "cell_type": "code",
   "execution_count": null,
   "metadata": {},
   "outputs": [],
   "source": [
    "logsG = q_scan('atum', [flt_namespace('net'), \n",
    "                        flt_msg('match', 'Gossip stats'),\n",
    "                        flt_time((15,35), (0,30))\n",
    "                       ],\n",
    "                postprocess=[postprocess_gossip])"
   ]
  },
  {
   "cell_type": "code",
   "execution_count": null,
   "metadata": {},
   "outputs": [],
   "source": [
    "plot.plot_gossip(logsG, \"RxPV\")\n",
    "plot.plot_gossip(logsG, \"TxPV\")\n",
    "\n",
    "plot.plot_gossip(logsG, \"RxPC\")\n",
    "plot.plot_gossip(logsG, \"TxPC\")\n",
    "\n",
    "plot.plot_gossip(logsG, \"RxP\")\n",
    "plot.plot_gossip(logsG, \"TxP\")\n",
    "\n",
    "plot.plot_gossip(logsG, \"RxB\")\n",
    "plot.plot_gossip(logsG, \"TxB\")\n",
    "None"
   ]
  },
  {
   "cell_type": "markdown",
   "metadata": {},
   "source": [
    "# Scratchpad"
   ]
  },
  {
   "cell_type": "code",
   "execution_count": null,
   "metadata": {},
   "outputs": [],
   "source": [
    "def plot_gossip_rxtx_ratio(logs, key, delta=False):\n",
    "    fig,ax = plot.figure_with_legend()\n",
    "    plt.grid()\n",
    "    plt.title(\"Ratio TX/RX for %s\" % key)\n",
    "    for k,d in logs.items():\n",
    "        tx = d['Tx'+key]\n",
    "        rx = d['Rx'+key]\n",
    "        if delta :\n",
    "            tx = tx - tx.values[0]\n",
    "            rx = rx - rx.values[0]\n",
    "        ax.plot(d['at'], tx/rx, '+', label=k, markersize=1.5)        \n",
    "    plot.add_legend(ax)\n",
    "    return fig\n",
    "plot_gossip_rxtx_ratio(logsG, 'PC')\n",
    "None"
   ]
  },
  {
   "cell_type": "code",
   "execution_count": null,
   "metadata": {},
   "outputs": [],
   "source": [
    "def calc_rxtx(logs, key, delta=False) :\n",
    "    def gen() :\n",
    "        for _,d in logs.items():\n",
    "            tx = d['Tx'+key]\n",
    "            rx = d['Rx'+key]\n",
    "            if delta :\n",
    "                tx = tx - tx.values[0]\n",
    "                rx = rx - rx.values[0]\n",
    "            yield np.average(tx/rx)\n",
    "    return list(gen())\n",
    "\n",
    "def calc_rate(logs, key):\n",
    "    def gen() :\n",
    "        for _,d in logs.items():\n",
    "            ts = (d['at'] - d['at'].values[0]).astype('timedelta64[s]')\n",
    "            ns = d[key]\n",
    "            r  = sm.OLS(ns, sm.add_constant(ts)).fit()\n",
    "            yield r.params[1]\n",
    "    return list(gen())"
   ]
  },
  {
   "cell_type": "code",
   "execution_count": null,
   "metadata": {},
   "outputs": [],
   "source": [
    "plt.figure()\n",
    "plt.grid()\n",
    "plt.bar( range(len(logsG)), calc_rxtx(logsG, 'PC'))\n",
    "None"
   ]
  },
  {
   "cell_type": "code",
   "execution_count": null,
   "metadata": {},
   "outputs": [],
   "source": [
    "def plot_rates(logs, key):\n",
    "    fig,ax = plot.figure_with_legend()\n",
    "    plt.grid()\n",
    "    plt.title('RX/TX growth rate for %s' % key)\n",
    "    plt.bar( range(len(logsG)), calc_rate(logsG, 'Rx'+key), \n",
    "            width=0.4, label='RX')\n",
    "    plt.bar( np.asarray(range(len(logsG)))+0.4, calc_rate(logsG, 'Tx'+key), \n",
    "            width=0.4, label='TX')\n",
    "    plot.add_legend(ax)\n",
    "    return fig\n",
    "\n",
    "plot_rates(logsG, 'PV')\n",
    "plot_rates(logsG, 'PC')\n",
    "plot_rates(logsG, 'P')\n",
    "plot_rates(logsG, 'B')\n",
    "None"
   ]
  },
  {
   "cell_type": "code",
   "execution_count": null,
   "metadata": {},
   "outputs": [],
   "source": [
    "rr   = {k: plot.to_commit(v) for k,v in logsC.items() if k[0]=='v'}\n",
    "\n",
    "t0   = np.min([v['at'].values[0] for _,v in rr.items()])\n",
    "hMin = np.max([v['H'].values[0]  for _,v in rr.items()])\n",
    "hMax = np.min([v['H'].values[-1] for _,v in rr.items()])\n",
    "\n",
    "def clean(v):\n",
    "    v = v.set_index('H').loc[hMin:hMax]\n",
    "    v['at'] = (v['at'] - t0).astype('timedelta64[ns]')\n",
    "    return v\n",
    "rr   = {k: clean(v) for k,v in rr.items()}"
   ]
  },
  {
   "cell_type": "code",
   "execution_count": null,
   "metadata": {},
   "outputs": [],
   "source": [
    "def clean2(v) :\n",
    "    v = v.copy()\n",
    "    v['at'] = v['at'].apply(lambda x: [x])\n",
    "    return v\n",
    "rrl = [ clean2(v) for v in rr.values()]\n",
    "r   = rrl[0]\n",
    "for i in range(1,len(rrl)):\n",
    "    r = r + rrl[i]"
   ]
  },
  {
   "cell_type": "code",
   "execution_count": null,
   "metadata": {},
   "outputs": [],
   "source": [
    "r['at'] = r['at'].apply(lambda x: np.median(x))"
   ]
  },
  {
   "cell_type": "code",
   "execution_count": null,
   "metadata": {},
   "outputs": [],
   "source": [
    "def plot_deviation(keys, window=None):\n",
    "    fig,ax = plot.figure_with_legend()    \n",
    "    plt.grid()\n",
    "    plt.title(\"Commit delay relative to median\")\n",
    "    plt.ylabel('Delay (ms)')\n",
    "    for key in keys:\n",
    "        ys = (rr[key]['at'] - r['at']).astype('int64').astype('float64')/1e6\n",
    "        if window is not None:\n",
    "            ys = np.convolve(ys, np.ones(window)/window, mode='same')\n",
    "        plt.plot(rr[key].index, ys, label=key)\n",
    "    plot.add_legend(ax)\n",
    "    return fig\n",
    "\n",
    "plot_deviation(rr.keys())\n",
    "None"
   ]
  },
  {
   "cell_type": "code",
   "execution_count": null,
   "metadata": {},
   "outputs": [],
   "source": [
    "plot_deviation(\n",
    "    ['validator1', 'validator2', 'validator3', 'validator4', 'validator6', 'validator7', 'validator8', 'validator9'],\n",
    "    window=31\n",
    ")\n",
    "None"
   ]
  },
  {
   "cell_type": "code",
   "execution_count": null,
   "metadata": {},
   "outputs": [],
   "source": [
    "xs = np.linspace(1,2,10)"
   ]
  },
  {
   "cell_type": "code",
   "execution_count": null,
   "metadata": {},
   "outputs": [],
   "source": [
    "np.convolve(xs, np.ones(3)/3, mode='same')"
   ]
  },
  {
   "cell_type": "code",
   "execution_count": null,
   "metadata": {},
   "outputs": [],
   "source": [
    "def plot_dist_delay(key):\n",
    "    plt.figure()\n",
    "    plt.title(key)\n",
    "    plt.hist(\n",
    "        (rr[key]['at'] - r['at']).astype('int64').astype('float64')/1e6,\n",
    "        bins=20\n",
    "    )"
   ]
  },
  {
   "cell_type": "code",
   "execution_count": null,
   "metadata": {},
   "outputs": [],
   "source": [
    "for k  in rr.keys():\n",
    "    plot_dist_delay(k)"
   ]
  },
  {
   "cell_type": "code",
   "execution_count": null,
   "metadata": {},
   "outputs": [],
   "source": [
    "means = {k: np.mean((rr[k]['at'] - r['at']).astype('int64').astype('float64')/1e6)\n",
    "        for k,v in rr.items()}\n",
    "meds = {k: np.median((rr[k]['at'] - r['at']).astype('int64').astype('float64')/1e6)\n",
    "        for k,v in rr.items()}\n",
    "stddevs = {k: np.std((rr[k]['at'] - r['at']).astype('int64').astype('float64')/1e6)\n",
    "            for k,v in rr.items()}\n",
    "mads = {k: sm.robust.mad((rr[k]['at'] - r['at']).astype('int64').astype('float64')/1e6)\n",
    "            for k,v in rr.items()}\n"
   ]
  },
  {
   "cell_type": "code",
   "execution_count": null,
   "metadata": {},
   "outputs": [],
   "source": [
    "plt.figure()\n",
    "plt.grid()\n",
    "plt.xlabel('Median delay (ms)')\n",
    "plt.ylabel('MAD of delay (ms)')\n",
    "plt.plot( meds.values(), mads.values(), '+')"
   ]
  },
  {
   "cell_type": "code",
   "execution_count": null,
   "metadata": {},
   "outputs": [],
   "source": []
  }
 ],
 "metadata": {
  "kernelspec": {
   "display_name": "Python 3",
   "language": "python",
   "name": "python3"
  },
  "language_info": {
   "codemirror_mode": {
    "name": "ipython",
    "version": 3
   },
   "file_extension": ".py",
   "mimetype": "text/x-python",
   "name": "python",
   "nbconvert_exporter": "python",
   "pygments_lexer": "ipython3",
   "version": "3.6.6"
  }
 },
 "nbformat": 4,
 "nbformat_minor": 2
}
