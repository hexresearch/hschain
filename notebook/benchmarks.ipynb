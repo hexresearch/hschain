{
 "cells": [
  {
   "cell_type": "code",
   "execution_count": null,
   "metadata": {},
   "outputs": [],
   "source": [
    "%matplotlib nbagg\n",
    "import matplotlib.pyplot as plt\n",
    "from IPython.display import display\n",
    "##\n",
    "import json\n",
    "import re\n",
    "import numpy           as np\n",
    "import pandas          as pd\n",
    "import statsmodels.api as sm\n",
    "import ipywidgets      as widgets\n",
    "##\n",
    "import thundermint.logs  as Log\n",
    "import thundermint.plot  as plot\n",
    "import thundermint.splot as splot"
   ]
  },
  {
   "cell_type": "code",
   "execution_count": null,
   "metadata": {},
   "outputs": [],
   "source": [
    "logs = Log.load_logs_files('../thundermint/logs/')\n",
    "p = plot.CommitData(logs)"
   ]
  },
  {
   "cell_type": "code",
   "execution_count": null,
   "metadata": {},
   "outputs": [],
   "source": [
    "class Tabs(object):\n",
    "    def __init__(self, names):\n",
    "        self.names = names\n",
    "    def __enter__(self):\n",
    "        outs = [widgets.Output() for _ in self.names]\n",
    "        tab  = widgets.Tab(children=outs)\n",
    "        for i,nm in enumerate(self.names):\n",
    "            tab.set_title(i,nm)\n",
    "        display(tab)\n",
    "        return outs\n",
    "    def __exit__(self, type, value, trace):\n",
    "        pass"
   ]
  },
  {
   "cell_type": "markdown",
   "metadata": {},
   "source": [
    "# Plots"
   ]
  },
  {
   "cell_type": "code",
   "execution_count": null,
   "metadata": {},
   "outputs": [],
   "source": [
    "with Tabs([\"Height\", \"Residuals\", \"Round\"]) as tabs:\n",
    "    with tabs[0]:\n",
    "        with plot.LegendPlot() as ax:\n",
    "            p.plot_points(ax, reltime=True)\n",
    "    with tabs[1]:\n",
    "        with plot.LegendPlot() as ax:\n",
    "            p.plot_residuals_TvsH(ax)\n",
    "    with tabs[2]:\n",
    "        plot.plot_round(logs)"
   ]
  },
  {
   "cell_type": "code",
   "execution_count": null,
   "metadata": {},
   "outputs": [],
   "source": [
    "with Tabs([\"Block size\", \"Block size (hist)\", \"N sigs\"]) as tabs:\n",
    "    with tabs[0]:\n",
    "        with plot.SimplePlot() as ax:\n",
    "            p.plot_ntx(ax)\n",
    "    with tabs[1]:\n",
    "        with plot.SimplePlot() as ax:\n",
    "            p.plot_ntx_distr(ax)\n",
    "    with tabs[2]:\n",
    "        with plot.SimplePlot() as ax:\n",
    "            p.plot_n_signatures(ax)"
   ]
  },
  {
   "cell_type": "code",
   "execution_count": null,
   "metadata": {},
   "outputs": [],
   "source": [
    "with Tabs(['mempool size', 'filtering time']) as tabs:\n",
    "    with tabs[0]:\n",
    "        plot.plot_mempool_size(logs)\n",
    "    with tabs[1]:\n",
    "        plt.figure()\n",
    "        plt.grid()\n",
    "        plt.title(\"Filtering time\")\n",
    "        df   = logs['node-1.log'].mempool\n",
    "        dfA  = df[df['msg'] == 'Mempool after filtering']\n",
    "        dfB  = df[df['msg'] == 'Mempool before filtering']\n",
    "        fltT = (dfA['at'].values - dfB['at'].values).astype('timedelta64[ms]').astype(float)\n",
    "        plt.hist(fltT, bins=50)"
   ]
  },
  {
   "cell_type": "code",
   "execution_count": null,
   "metadata": {},
   "outputs": [],
   "source": [
    "splot.splot(logs, w=8096)"
   ]
  },
  {
   "cell_type": "markdown",
   "metadata": {},
   "source": [
    "# Playground"
   ]
  },
  {
   "cell_type": "code",
   "execution_count": null,
   "metadata": {},
   "outputs": [],
   "source": [
    "# Log keys\n",
    "keyNH   = \"Entering new height ----------------\"\n",
    "keyPrp  = \"Entering propose\"\n",
    "keyPV   = \"Entering prevote\"\n",
    "keyPC   = \"Entering precommit\"\n",
    "keyCmt  = \"Decision to commit\"\n",
    "keyDone = \"Actual commit\"\n",
    "keyOrdSet = [keyNH, keyPrp, keyPV, keyPC, keyCmt, keyDone]\n",
    "keySet = frozenset(keyOrdSet)"
   ]
  },
  {
   "cell_type": "code",
   "execution_count": null,
   "metadata": {},
   "outputs": [],
   "source": [
    "df       = logs['node-1.log'].cons.copy()\n",
    "df['H']  = df['data'].apply(lambda x: x.get('H'))\n",
    "df       = df[df['H']>0]\n",
    "df       = df[df['msg'].isin(keySet)]\n",
    "deltaT   = (df['at'].values[1:] - df['at'].values[:-1]).astype('timedelta64[ms]')\n",
    "df       = df[:-1]\n",
    "df['dt'] = deltaT.copy()\n",
    "steps    = {k:v for k,v in df.groupby(['msg'])}"
   ]
  },
  {
   "cell_type": "code",
   "execution_count": null,
   "metadata": {},
   "outputs": [],
   "source": [
    "for k in keyOrdSet:\n",
    "    v = steps[k]\n",
    "    plt.figure()\n",
    "    plt.grid()\n",
    "    #plt.semilogy()\n",
    "    plt.title(k)\n",
    "    plt.hist(v['dt'].values.astype('float')/1e6, bins=100)"
   ]
  },
  {
   "cell_type": "code",
   "execution_count": null,
   "metadata": {},
   "outputs": [],
   "source": [
    "plt.figure()\n",
    "plt.grid()\n",
    "plt.semilogy()\n",
    "ys,xs,_ = plt.hist(steps['Entering new height ----------------']['dt'].values.astype('float')/1e6, bins=100)\n",
    "ys = np.log(ys)\n",
    "xs = (xs + (xs[1] - xs[0])/2)[:-1]\n",
    "xs = xs[ys>0]\n",
    "ys = ys[ys>0]\n",
    "rr = sm.OLS(ys, sm.add_constant(xs), missing=\"drop\").fit()\n",
    "plt.plot(xs, np.exp((xs*rr.params[1] + rr.params[0])))\n",
    "plt.title('Entering new height. N~exp(-t/%.3g)' % (-1/rr.params[1]))\n",
    "None"
   ]
  },
  {
   "cell_type": "code",
   "execution_count": null,
   "metadata": {},
   "outputs": [],
   "source": []
  }
 ],
 "metadata": {
  "kernelspec": {
   "display_name": "Python 3",
   "language": "python",
   "name": "python3"
  },
  "language_info": {
   "codemirror_mode": {
    "name": "ipython",
    "version": 3
   },
   "file_extension": ".py",
   "mimetype": "text/x-python",
   "name": "python",
   "nbconvert_exporter": "python",
   "pygments_lexer": "ipython3",
   "version": "3.6.8"
  }
 },
 "nbformat": 4,
 "nbformat_minor": 2
}
