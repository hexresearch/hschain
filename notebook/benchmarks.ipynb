{
 "cells": [
  {
   "cell_type": "code",
   "execution_count": null,
   "metadata": {},
   "outputs": [],
   "source": [
    "%matplotlib nbagg\n",
    "import matplotlib.pyplot as plt\n",
    "from IPython.display import display\n",
    "##\n",
    "import json\n",
    "import re\n",
    "import numpy           as np\n",
    "import pandas          as pd\n",
    "import statsmodels.api as sm\n",
    "\n",
    "##\n",
    "import thundermint.logs  as Log\n",
    "import thundermint.plot  as plot\n",
    "import thundermint.splot as splot"
   ]
  },
  {
   "cell_type": "code",
   "execution_count": null,
   "metadata": {},
   "outputs": [],
   "source": [
    "logs = Log.load_logs_files('../thundermint/logs/')\n",
    "p = plot.CommitData(logs)"
   ]
  },
  {
   "cell_type": "markdown",
   "metadata": {},
   "source": [
    "# Plots"
   ]
  },
  {
   "cell_type": "code",
   "execution_count": null,
   "metadata": {},
   "outputs": [],
   "source": [
    "with plot.LegendPlot() as ax:\n",
    "    p.plot_points(ax, reltime=True)\n",
    "with plot.LegendPlot() as ax:\n",
    "    p.plot_residuals_TvsH(ax)\n",
    "plot.plot_round(logs)\n",
    "None"
   ]
  },
  {
   "cell_type": "code",
   "execution_count": null,
   "metadata": {},
   "outputs": [],
   "source": [
    "with plot.SimplePlot() as ax:\n",
    "    p.plot_ntx(ax)\n",
    "with plot.SimplePlot() as ax:\n",
    "    p.plot_ntx_distr(ax)\n",
    "with plot.SimplePlot() as ax:\n",
    "    p.plot_n_signatures(ax)"
   ]
  },
  {
   "cell_type": "code",
   "execution_count": null,
   "metadata": {},
   "outputs": [],
   "source": [
    "plot.plot_mempool_size(logs)\n",
    "None"
   ]
  },
  {
   "cell_type": "code",
   "execution_count": null,
   "metadata": {},
   "outputs": [],
   "source": [
    "splot.splot(logs, w=8096)"
   ]
  },
  {
   "cell_type": "markdown",
   "metadata": {},
   "source": [
    "# Playground"
   ]
  },
  {
   "cell_type": "code",
   "execution_count": null,
   "metadata": {},
   "outputs": [],
   "source": [
    "# Log keys\n",
    "keyNH   = \"Entering new height ----------------\"\n",
    "keyPrp  = \"Entering propose\"\n",
    "keyPV   = \"Entering prevote\"\n",
    "keyPC   = \"Entering precommit\"\n",
    "keyCmt  = \"Decision to commit\"\n",
    "keyDone = \"Actual commit\"\n",
    "keyOrdSet = [keyNH, keyPrp, keyPV, keyPC, keyCmt, keyDone]\n",
    "keySet = frozenset(keyOrdSet)"
   ]
  },
  {
   "cell_type": "code",
   "execution_count": null,
   "metadata": {},
   "outputs": [],
   "source": [
    "df       = logs['node-1.log'].cons.copy()\n",
    "df['H']  = df['data'].apply(lambda x: x.get('H'))\n",
    "df       = df[df['H']>0]\n",
    "df       = df[df['msg'].isin(keySet)]\n",
    "deltaT   = (df['at'].values[1:] - df['at'].values[:-1]).astype('timedelta64[ms]')\n",
    "df       = df[:-1]\n",
    "df['dt'] = deltaT.copy()\n",
    "steps    = {k:v for k,v in df.groupby(['msg'])}"
   ]
  },
  {
   "cell_type": "code",
   "execution_count": null,
   "metadata": {},
   "outputs": [],
   "source": [
    "for k in keyOrdSet:\n",
    "    v = steps[k]\n",
    "    plt.figure()\n",
    "    plt.grid()\n",
    "    #plt.semilogy()\n",
    "    plt.title(k)\n",
    "    plt.hist(v['dt'].values.astype('float')/1e6, bins=100)"
   ]
  },
  {
   "cell_type": "code",
   "execution_count": null,
   "metadata": {},
   "outputs": [],
   "source": [
    "plt.figure()\n",
    "plt.grid()\n",
    "plt.semilogy()\n",
    "ys,xs,_ = plt.hist(steps['Entering new height ----------------']['dt'].values.astype('float')/1e6, bins=100)\n",
    "ys = np.log(ys)\n",
    "xs = (xs + (xs[1] - xs[0])/2)[:-1]\n",
    "xs = xs[ys>0]\n",
    "ys = ys[ys>0]\n",
    "rr = sm.OLS(ys, sm.add_constant(xs), missing=\"drop\").fit()\n",
    "plt.plot(xs, np.exp((xs*rr.params[1] + rr.params[0])))\n",
    "plt.title('Entering new height. N~exp(-t/%.3g)' % (-1/rr.params[1]))\n",
    "None"
   ]
  },
  {
   "cell_type": "code",
   "execution_count": null,
   "metadata": {},
   "outputs": [],
   "source": []
  },
  {
   "cell_type": "code",
   "execution_count": null,
   "metadata": {},
   "outputs": [],
   "source": []
  }
 ],
 "metadata": {
  "kernelspec": {
   "display_name": "Python 3",
   "language": "python",
   "name": "python3"
  },
  "language_info": {
   "codemirror_mode": {
    "name": "ipython",
    "version": 3
   },
   "file_extension": ".py",
   "mimetype": "text/x-python",
   "name": "python",
   "nbconvert_exporter": "python",
   "pygments_lexer": "ipython3",
   "version": "3.6.8"
  }
 },
 "nbformat": 4,
 "nbformat_minor": 2
}
