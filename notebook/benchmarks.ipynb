{
 "cells": [
  {
   "cell_type": "code",
   "execution_count": null,
   "metadata": {},
   "outputs": [],
   "source": [
    "%matplotlib nbagg\n",
    "import matplotlib.pyplot as plt\n",
    "from IPython.display import display\n",
    "##\n",
    "import itertools\n",
    "import json\n",
    "import re\n",
    "import numpy           as np\n",
    "import pandas          as pd\n",
    "import statsmodels.api as sm\n",
    "import ipywidgets      as widgets\n",
    "##\n",
    "import hschain.logs  as Log\n",
    "import hschain.plot  as plot\n",
    "import hschain.splot as splot\n",
    "## Shut up matplotlib\n",
    "plt.rcParams.update({'figure.max_open_warning': 0})"
   ]
  },
  {
   "cell_type": "code",
   "execution_count": null,
   "metadata": {},
   "outputs": [],
   "source": [
    "class Tabs(object):\n",
    "    def __init__(self):\n",
    "        self.tab = widgets.Tab()\n",
    "        display(self.tab)\n",
    "    def __call__(self, name):\n",
    "        out = widgets.Output()\n",
    "        self.tab.children = list(self.tab.children) + [out]\n",
    "        self.tab.set_title(len(self.tab.children) - 1, name)\n",
    "        return out"
   ]
  },
  {
   "cell_type": "code",
   "execution_count": null,
   "metadata": {},
   "outputs": [],
   "source": [
    "logs = Log.LogSet('../logs/')\n",
    "p    = plot.CommitData(logs)"
   ]
  },
  {
   "cell_type": "markdown",
   "metadata": {},
   "source": [
    "# Block and commit information"
   ]
  },
  {
   "cell_type": "code",
   "execution_count": null,
   "metadata": {},
   "outputs": [],
   "source": [
    "tabs = Tabs()\n",
    "with tabs(\"Height\"):\n",
    "    with plot.LegendPlot() as ax:\n",
    "        p.plot_points(ax, reltime=True)\n",
    "with tabs(\"Residuals\"):\n",
    "    with plot.LegendPlot() as ax:\n",
    "        p.plot_residuals_TvsH(ax)\n",
    "with tabs(\"Round\"):\n",
    "    plot.plot_round(logs)\n",
    "with tabs(\"Round distr\"):\n",
    "    plot.plot_round_distr(logs)"
   ]
  },
  {
   "cell_type": "code",
   "execution_count": null,
   "metadata": {},
   "outputs": [],
   "source": [
    "tabs = Tabs()\n",
    "with tabs(\"Block size\"):\n",
    "    with plot.SimplePlot() as ax:\n",
    "        p.plot_ntx(ax)\n",
    "with tabs(\"Block size (hist)\"):\n",
    "    with plot.SimplePlot() as ax:\n",
    "        p.plot_ntx_distr(ax)\n",
    "with tabs(\"N sigs\"):\n",
    "    with plot.SimplePlot() as ax:\n",
    "        p.plot_n_signatures(ax)"
   ]
  },
  {
   "cell_type": "markdown",
   "metadata": {},
   "source": [
    "# Mempool"
   ]
  },
  {
   "cell_type": "code",
   "execution_count": null,
   "metadata": {},
   "outputs": [],
   "source": [
    "df    = logs.some()\n",
    "tMean = np.average(df.mempoolStat['fltT'])\n",
    "tMed  = np.median(df.mempoolStat['fltT'])\n",
    "#\n",
    "tabs = Tabs()\n",
    "with tabs(\"mempool size\"):\n",
    "    plot.plot_mempool_size(logs)\n",
    "with tabs(\"Filtering time\"):\n",
    "    plt.figure()\n",
    "    plt.grid()\n",
    "    plt.title(\"Filtering time [μ=%.0fms, med=%.0fms]\" % (tMean,tMed))\n",
    "    plt.plot(df.mempoolStat['fltT'], '+')\n",
    "with tabs(\"Filtering time (distr)\"):\n",
    "    plt.figure()\n",
    "    plt.grid()\n",
    "    plt.title(\"Filtering time [μ=%.0fms, med=%.0fms]\" % (tMean,tMed))\n",
    "    plt.xlabel(\"Time (ms)\")\n",
    "    plt.hist(df.mempoolStat['fltT'], bins=50)\n",
    "with tabs(\"Filtering time per TX\"):\n",
    "    plt.figure()\n",
    "    plt.grid()\n",
    "    plt.title(\"Filtering time per TX\")\n",
    "    plt.xlabel(\"Time per TX (ms)\")\n",
    "    plt.hist(df.mempoolStat['fltT'] / df.mempoolStat['sizeB'], bins=50)"
   ]
  },
  {
   "cell_type": "markdown",
   "metadata": {},
   "source": [
    "# Timing of algorithm steps"
   ]
  },
  {
   "cell_type": "code",
   "execution_count": null,
   "metadata": {},
   "outputs": [],
   "source": [
    "splot.splot(logs, w=8096)"
   ]
  },
  {
   "cell_type": "code",
   "execution_count": null,
   "metadata": {},
   "outputs": [],
   "source": [
    "tabs = Tabs()\n",
    "for i,k in enumerate(Log.keyOrdSet):\n",
    "    v = logs.some().stepsTime[k]\n",
    "    with tabs(k):\n",
    "        plt.figure()\n",
    "        plt.grid()\n",
    "        times = v['dt'].values.astype('float')/1e6\n",
    "        plt.title(\"%s: %.1fms\" % (k, np.average(times)))\n",
    "        plt.hist(times, bins=100)"
   ]
  },
  {
   "cell_type": "code",
   "execution_count": null,
   "metadata": {},
   "outputs": [],
   "source": [
    "def calc_jitter(logs,step):\n",
    "    df       = pd.concat([l.consStep(step) for _,l in logs.items()])\n",
    "    t0       = np.min(df['at'])\n",
    "    df['at'] = (df['at'] - t0).astype('timedelta64[ms]').astype('float')\n",
    "    grp = df.groupby(df.index)\n",
    "    return pd.DataFrame(data={\n",
    "        'max'    : grp.max()['at'],\n",
    "        'min'    : grp.min()['at'],\n",
    "        'median' : grp.median()['at']\n",
    "    })\n",
    "\\\n",
    "tabs = Tabs()\n",
    "rs   = []\n",
    "for i,s in enumerate(Log.Step):\n",
    "    with tabs(s.value) :\n",
    "        df   = calc_jitter(logs, s)\n",
    "        r    = df['max'] - df['min']        \n",
    "        #r    = df['max'] + df['min'] - 2*df['median']\n",
    "        #r    = df['max'] - df['median']\n",
    "        #r    = df['median'] - df['min']\n",
    "        rs.append(r)\n",
    "        rMin = np.min(r)\n",
    "        rMax = np.max(r)\n",
    "        rAvg = np.average(r)\n",
    "        #\n",
    "        fig,(ax1,ax2) = plt.subplots(1,2,figsize=[9, 4.8])\n",
    "        #\n",
    "        fig.suptitle(\"Jitter: %.0f / %.0f / %.0f ms\" % (rMin,rAvg,rMax))\n",
    "        ax1.grid()\n",
    "        ax1.axhline(rAvg, color='r')\n",
    "        ax1.plot(r,'+')\n",
    "        #\n",
    "        ax2.grid()\n",
    "        ax2.axvline(rAvg, color='r')\n",
    "        ax2.hist(r, bins=30)\n",
    "\n",
    "with tabs(\"Boxplot\"):\n",
    "    fig = plt.figure()\n",
    "    plt.grid()\n",
    "    plt.boxplot(rs, labels=[\"NH\",\"P\",\"PV\",\"PC\",\"C\",\"C'\"])\n",
    "    fig.savefig('optim.png')"
   ]
  },
  {
   "cell_type": "markdown",
   "metadata": {},
   "source": [
    "# Gossip"
   ]
  },
  {
   "cell_type": "code",
   "execution_count": null,
   "metadata": {},
   "outputs": [],
   "source": [
    "tabs = Tabs()\n",
    "for lab in [\"P\",\"PV\",\"PC\",\"B\"]:\n",
    "    with tabs(lab):\n",
    "        fig,((ax1,ax2),(ax3,ax4)) = plt.subplots(2,2,figsize=[9, 8])\n",
    "        fig.suptitle(\"Gossip Rx/Tx%s\" % lab)\n",
    "        for name,df in logs.items():\n",
    "            t  = df.gossip['dt']\n",
    "            rx = df.gossip['Rx'+lab]\n",
    "            tx = df.gossip['Tx'+lab]\n",
    "            rRx = sm.OLS(rx, sm.add_constant(t)).fit()\n",
    "            rTx = sm.OLS(tx, sm.add_constant(t)).fit()\n",
    "            #\n",
    "            ax1.grid(True)\n",
    "            ax1.set_title(\"Rx\")\n",
    "            ax1.plot(t, rx)\n",
    "            #\n",
    "            ax2.grid(True)\n",
    "            ax2.set_title('Tx')\n",
    "            ax2.plot(t, tx)\n",
    "            #\n",
    "            ax3.grid(True)\n",
    "            ax3.set_title('Excess Rx-Tx')\n",
    "            ax3.plot(t, rx-tx)\n",
    "            print(\"%8s: Rx=%-12.3g/s  Tx=%-12.3g/s\" % (name, rRx.params[1], rTx.params[1]))"
   ]
  },
  {
   "cell_type": "markdown",
   "metadata": {},
   "source": [
    "# Playground"
   ]
  },
  {
   "cell_type": "code",
   "execution_count": null,
   "metadata": {},
   "outputs": [],
   "source": [
    "def group_by_HR(df):\n",
    "    return {k : [d\n",
    "                 for _,d\n",
    "                 in v.fillna(method='ffill').groupby('R')]\n",
    "            for k,v\n",
    "            in df.groupby('H')}"
   ]
  },
  {
   "cell_type": "code",
   "execution_count": null,
   "metadata": {},
   "outputs": [],
   "source": [
    "def proposal_time(df):\n",
    "    t0 = df[df['msg'] == 'Entering propose']['at'].values\n",
    "    t1 = df[df['msg'] == 'Making new proposal']['at'].values\n",
    "    if len(t0) == 1 and len(t1) == 1:\n",
    "        return (t1[0] - t0[0]).astype('timedelta64[ns]').astype('float') * 1e-6\n",
    "    return None\n",
    "\n",
    "def all_proposal_times(logs):\n",
    "#    hmaps = [ [ [proposal_time(df) for df in dfseq]\n",
    "#                for _,dfseq \n",
    "#                in group_by_HR(o.cons)\n",
    "#              ]\n",
    "#             for _,o in logs.items()\n",
    "#            ]\n",
    "    return hmaps"
   ]
  },
  {
   "cell_type": "code",
   "execution_count": null,
   "metadata": {},
   "outputs": [],
   "source": [
    "#all_proposal_times(logs)\n",
    "hmap  = [group_by_HR(o.cons) for _,o in logs.items()]\n",
    "propT = [[proposal_time(df) for df in dfs]\n",
    "         for _,dfs\n",
    "         in itertools.chain(*[ h.items() for h in hmap ])\n",
    "        ]\n",
    "ts = list(itertools.filterfalse(lambda x : x is None, \n",
    "                           itertools.chain.from_iterable(propT)))"
   ]
  },
  {
   "cell_type": "code",
   "execution_count": null,
   "metadata": {},
   "outputs": [],
   "source": [
    "plt.figure()\n",
    "plt.grid()\n",
    "plt.hist(ts, bins=30)\n",
    "None"
   ]
  },
  {
   "cell_type": "code",
   "execution_count": null,
   "metadata": {},
   "outputs": [],
   "source": []
  }
 ],
 "metadata": {
  "kernelspec": {
   "display_name": "Python 3",
   "language": "python",
   "name": "python3"
  },
  "language_info": {
   "codemirror_mode": {
    "name": "ipython",
    "version": 3
   },
   "file_extension": ".py",
   "mimetype": "text/x-python",
   "name": "python",
   "nbconvert_exporter": "python",
   "pygments_lexer": "ipython3",
   "version": "3.6.8"
  }
 },
 "nbformat": 4,
 "nbformat_minor": 2
}
