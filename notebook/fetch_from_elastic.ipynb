{
 "cells": [
  {
   "cell_type": "code",
   "execution_count": null,
   "metadata": {},
   "outputs": [],
   "source": [
    "%matplotlib nbagg\n",
    "import matplotlib.pyplot as plt\n",
    "##\n",
    "import json\n",
    "##\n",
    "import numpy           as np\n",
    "import pandas          as pd\n",
    "import statsmodels.api as sm\n",
    "##\n",
    "from elasticsearch import Elasticsearch, helpers"
   ]
  },
  {
   "cell_type": "code",
   "execution_count": null,
   "metadata": {},
   "outputs": [],
   "source": [
    "with open(\"credential.json\") as f:\n",
    "    credentials = json.load(f)\n",
    "es = Elasticsearch(\"%s:%s@elastic.hxr.team\" % (credentials['login'], credentials['password']), \n",
    "                   port=443, \n",
    "                   use_ssl=True,\n",
    "                   )"
   ]
  },
  {
   "cell_type": "markdown",
   "metadata": {},
   "source": [
    "# Sratchpad"
   ]
  },
  {
   "cell_type": "code",
   "execution_count": null,
   "metadata": {},
   "outputs": [],
   "source": [
    "qqq={\"query\":\n",
    "  {\n",
    "    \"bool\" : {\n",
    "      \"must\" : [\n",
    "        {\"term\":{'ns':'consensus'}},\n",
    "        {\"range\": {'at': {\"gte\": 'now-5m',\n",
    "                          \"lt\": 'now',\n",
    "                          }\n",
    "        }},\n",
    "        ]\n",
    "    }}}\n"
   ]
  },
  {
   "cell_type": "code",
   "execution_count": null,
   "metadata": {},
   "outputs": [],
   "source": [
    "es.count(index='xenochain-2018-10-29', body=qqq)"
   ]
  },
  {
   "cell_type": "code",
   "execution_count": null,
   "metadata": {},
   "outputs": [],
   "source": [
    "gen = helpers.scan( client=es, scroll='2m', query=qqq, index='xenochain-2018-10-29')"
   ]
  },
  {
   "cell_type": "code",
   "execution_count": null,
   "metadata": {},
   "outputs": [],
   "source": [
    "rr = [x['_source'] for x in gen]"
   ]
  },
  {
   "cell_type": "code",
   "execution_count": null,
   "metadata": {},
   "outputs": [],
   "source": [
    "q = pd.DataFrame.from_records(rr, columns=['at','data','msg','host'])"
   ]
  },
  {
   "cell_type": "code",
   "execution_count": null,
   "metadata": {},
   "outputs": [],
   "source": [
    "z = dict([x for x in q.groupby('host')])"
   ]
  },
  {
   "cell_type": "code",
   "execution_count": null,
   "metadata": {},
   "outputs": [],
   "source": [
    "z.keys()"
   ]
  },
  {
   "cell_type": "code",
   "execution_count": null,
   "metadata": {},
   "outputs": [],
   "source": []
  }
 ],
 "metadata": {
  "kernelspec": {
   "display_name": "Python 3",
   "language": "python",
   "name": "python3"
  },
  "language_info": {
   "codemirror_mode": {
    "name": "ipython",
    "version": 3
   },
   "file_extension": ".py",
   "mimetype": "text/x-python",
   "name": "python",
   "nbconvert_exporter": "python",
   "pygments_lexer": "ipython3",
   "version": "3.6.6"
  }
 },
 "nbformat": 4,
 "nbformat_minor": 2
}
