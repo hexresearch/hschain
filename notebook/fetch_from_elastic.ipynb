{
 "cells": [
  {
   "cell_type": "code",
   "execution_count": null,
   "metadata": {},
   "outputs": [],
   "source": [
    "%matplotlib nbagg\n",
    "import matplotlib.pyplot as plt\n",
    "##\n",
    "import json\n",
    "##\n",
    "import numpy           as np\n",
    "import pandas          as pd\n",
    "import statsmodels.api as sm\n",
    "##\n",
    "from elasticsearch import Elasticsearch, helpers\n",
    "##\n",
    "import thundermint.splot as splot"
   ]
  },
  {
   "cell_type": "code",
   "execution_count": null,
   "metadata": {},
   "outputs": [],
   "source": [
    "with open(\"credential.json\") as f:\n",
    "    credentials = json.load(f)\n",
    "es = Elasticsearch(\"%s:%s@elastic.hxr.team\" % (credentials['login'], credentials['password']), \n",
    "                   port=443, \n",
    "                   use_ssl=True,\n",
    "                   )"
   ]
  },
  {
   "cell_type": "markdown",
   "metadata": {},
   "source": [
    "# Ready-made queries for elastic"
   ]
  },
  {
   "cell_type": "code",
   "execution_count": null,
   "metadata": {},
   "outputs": [],
   "source": [
    "def query_consensus(t1,t2) :\n",
    "    return {\n",
    "        \"_source\": [\"at\",\"data\",\"msg\",\"sev\",\"host\"],\n",
    "        \"query\": {\n",
    "            \"bool\" : {\n",
    "                \"must\" : [\n",
    "                    {\"term\":{'ns':'consensus'}},\n",
    "                    {\n",
    "                        \"range\": {\n",
    "                            \"at\": {\"gte\":t1, \"lt\":t2}\n",
    "                        }\n",
    "                    }\n",
    "                ]\n",
    "            }\n",
    "        }\n",
    "    }\n",
    "\n",
    "def query_errors():\n",
    "    return {\"query\": {\"term\" : {'sev':'Error'}}}\n",
    "def query_warnings():\n",
    "    return {\"query\": {\"term\" : {'sev':'Warning'}}}\n",
    "\n",
    "def distinct_fields(field, index) :\n",
    "    q = {\n",
    "        \"aggs\":{\n",
    "            \"unique_ids\": {\n",
    "                \"terms\": {\"field\": \"app\"}\n",
    "                }\n",
    "            }    \n",
    "        }\n",
    "    r = es.search(body=q, index=index, size=0)\n",
    "    return r['aggregations']['unique_ids']['buckets']"
   ]
  },
  {
   "cell_type": "markdown",
   "metadata": {},
   "source": [
    "# Data"
   ]
  },
  {
   "cell_type": "code",
   "execution_count": null,
   "metadata": {},
   "outputs": [],
   "source": [
    "r = helpers.scan(client=es, scroll='2m', \n",
    "                 query=query_consensus('2018-10-30T04:45:00Z', '2018-10-30T5:30:00Z'),\n",
    "                 index='xenochain-2018-10-30')\n",
    "r = [x['_source'] for x in r]\n",
    "r = pd.DataFrame.from_records(r, columns=['at','data','msg','host'])\n",
    "r['at'] = pd.to_datetime(r['at'])\n",
    "r = r.sort_values('at')\n",
    "logs = dict([x for x in r.groupby('host')])"
   ]
  },
  {
   "cell_type": "markdown",
   "metadata": {},
   "source": [
    "# Plotting"
   ]
  },
  {
   "cell_type": "code",
   "execution_count": null,
   "metadata": {},
   "outputs": [],
   "source": [
    "def to_commit(d) :\n",
    "    r = d[d['msg'] == \"Entering new height ----------------\"].copy()\n",
    "    r['H'] = r['data'].apply(lambda x : x['H'])\n",
    "    return r.drop(['data','msg','host'], axis=1)"
   ]
  },
  {
   "cell_type": "code",
   "execution_count": null,
   "metadata": {},
   "outputs": [],
   "source": [
    "def foo():\n",
    "    fig = plt.figure()\n",
    "    plt.grid()\n",
    "    plt.legend()\n",
    "    plt.title(\"Height vs time\")\n",
    "    for k,d in logs.items() :\n",
    "        d = to_commit(d)\n",
    "        plt.plot(d['at'], d['H'], '.', markersize=1, label=k)        \n",
    "    plt.legend(bbox_to_anchor=(0.65, 0, 0.5, 0.65))\n",
    "    return fig\n",
    "# ----\n",
    "foo()\n",
    "None"
   ]
  },
  {
   "cell_type": "code",
   "execution_count": null,
   "metadata": {},
   "outputs": [],
   "source": [
    "def plot_commit_time(logs) :\n",
    "    \"Plot commit time and prime average block time\"\n",
    "    # Subtract leading time\n",
    "    dfs = [to_commit(l) for l in logs.values()]\n",
    "    t0  = np.min([df['at'].values[0] for df in dfs])\n",
    "    h1  = [df['H'].values[0]  for df in dfs]\n",
    "    h2  = [df['H'].values[-1] for df in dfs]\n",
    "    for df in dfs :\n",
    "        df['at'] = (df['at'] - t0).astype('timedelta64[s]')\n",
    "    # Fit averaged commit times with straign line\n",
    "    n  = np.min([df['H'].shape[0] for df in dfs])\n",
    "    hs = dfs[0]['H'][0:n]\n",
    "    ts = np.average( [df['at'][0:n] for df in dfs], axis=0 )\n",
    "    r  = sm.OLS(ts, sm.add_constant(hs), missing='drop').fit()\n",
    "    # Do plot\n",
    "    figA = plt.figure()\n",
    "    plt.grid()\n",
    "    plt.title('Commit time')\n",
    "    plt.xlabel('Time (s)')\n",
    "    plt.ylabel('Height')\n",
    "    plt.plot(hs*r.params[1] + r.params[0], hs, color='grey', linewidth=0.5)\n",
    "    for df in dfs :\n",
    "        plt.plot(df['at'] , df['H'], '+')\n",
    "    print(\"Time for commit of singe block %.3f s\" % float(r.params[1]))\n",
    "    #\n",
    "    figB = plt.figure()\n",
    "    plt.grid()\n",
    "    plt.title('Commit time residuals')\n",
    "    plt.xlabel('Time (s)')\n",
    "    plt.ylabel('Delta H')\n",
    "    for df in dfs :\n",
    "        plt.plot(df['at'] , df['H'] - (df['at'] - r.params[0]) / r.params[1])\n",
    "    return [figA,figB]\n",
    "# ----\n",
    "plot_commit_time(logs)\n",
    "None"
   ]
  },
  {
   "cell_type": "markdown",
   "metadata": {},
   "source": [
    "# Sratchpad"
   ]
  },
  {
   "cell_type": "code",
   "execution_count": null,
   "metadata": {},
   "outputs": [],
   "source": [
    "class Object :\n",
    "    pass\n",
    "def foo():\n",
    "    def f(d) :\n",
    "        r = Object()\n",
    "        r.cons = d\n",
    "        return r\n",
    "    return splot.splot([f(x) for x in logs.values()], w=20000)\n",
    "#\n",
    "foo()"
   ]
  },
  {
   "cell_type": "code",
   "execution_count": null,
   "metadata": {},
   "outputs": [],
   "source": [
    "q1 = logs['xenochain1'].reset_index()\n",
    "q2 = logs['xenochain2'].reset_index()"
   ]
  },
  {
   "cell_type": "code",
   "execution_count": null,
   "metadata": {},
   "outputs": [],
   "source": [
    "q1[4877:6000]"
   ]
  },
  {
   "cell_type": "code",
   "execution_count": null,
   "metadata": {},
   "outputs": [],
   "source": [
    "r = es.search(index='xenochain-2018-10-30', body=query_errors(), size=1000)\n",
    "r = [x['_source'] for x in r['hits']['hits']]"
   ]
  },
  {
   "cell_type": "code",
   "execution_count": null,
   "metadata": {},
   "outputs": [],
   "source": [
    "pd.DataFrame.from_records(r, columns=['at','msg','ns','data','host']).sort_values('at')"
   ]
  },
  {
   "cell_type": "code",
   "execution_count": null,
   "metadata": {},
   "outputs": [],
   "source": [
    "qqq = {\n",
    "    \"_source\": [\"host\"],\n",
    "    \"aggs\":{\n",
    "        \"unique_ids\": {\n",
    "            \"terms\": {\"field\": \"app\"}\n",
    "        }\n",
    "    }    \n",
    "}\n",
    "es.search(body=qqq, index=\"xenochain-2018-11-06\", size=0)['aggregations']['unique_ids']['buckets']"
   ]
  },
  {
   "cell_type": "code",
   "execution_count": null,
   "metadata": {},
   "outputs": [],
   "source": [
    "qqq = {\"query\": {\"term\": {\"host\": \"manannan\"}}}\n",
    "r = es.search(body=qqq, index=\"xenochain-2018-11-02\", size=1000)['hits']['hits']"
   ]
  },
  {
   "cell_type": "code",
   "execution_count": null,
   "metadata": {},
   "outputs": [],
   "source": [
    "r = [x['_source'] for x in r]"
   ]
  },
  {
   "cell_type": "code",
   "execution_count": null,
   "metadata": {},
   "outputs": [],
   "source": [
    "set([x['pid'] for x in r]) "
   ]
  },
  {
   "cell_type": "code",
   "execution_count": null,
   "metadata": {},
   "outputs": [],
   "source": [
    "r[0]"
   ]
  },
  {
   "cell_type": "code",
   "execution_count": null,
   "metadata": {},
   "outputs": [],
   "source": []
  }
 ],
 "metadata": {
  "kernelspec": {
   "display_name": "Python 3",
   "language": "python",
   "name": "python3"
  },
  "language_info": {
   "codemirror_mode": {
    "name": "ipython",
    "version": 3
   },
   "file_extension": ".py",
   "mimetype": "text/x-python",
   "name": "python",
   "nbconvert_exporter": "python",
   "pygments_lexer": "ipython3",
   "version": "3.6.6"
  }
 },
 "nbformat": 4,
 "nbformat_minor": 2
}
